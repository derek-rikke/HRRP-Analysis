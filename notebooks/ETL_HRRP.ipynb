{
 "cells": [
  {
   "cell_type": "markdown",
   "id": "a3f7a868",
   "metadata": {},
   "source": [
    "\n",
    "# HRRP ETL — Cleaned Datasets & Tableau Summaries\n",
    "\n",
    "This notebook ingests CMS HRRP hospital-level files (FY2021–FY2025), normalizes schemas, flags suppressed rows, and produces Tableau-ready summary tables:\n",
    "\n",
    "**Outputs (CSV, in `../data/processed/`):**\n",
    "- `state_summary.csv` — FY × State × Condition averages (+ YoY delta)\n",
    "- `national_summary.csv` — FY × Condition national average (hospital-weighted)\n",
    "- `national_summary_stateavg.csv` — FY × Condition (mean of state averages)\n",
    "- `hospital_summary.csv` — FY × Hospital × Condition records (ERR + counts)\n",
    "- `suppression_by_fy_measure.csv` — FY × Condition suppression % (for KPI)\n",
    "- `suppression_summary.csv` — FY suppression overview\n",
    "\n",
    "Assumptions:\n",
    "- One CSV per FY in `../data/raw/`\n",
    "- FY is parsed from filename, e.g., `fy_2024_...csv`\n",
    "\n",
    "\n",
    "---\n",
    "\n",
    "### Background\n",
    "The Hospital Readmissions Reduction Program (HRRP) is a Medicare initiative that reduces payments to hospitals with excess readmissions. Publicly released HRRP data often includes suppressed values for privacy, and schema variations across fiscal years. This ETL process cleans and harmonizes the files to produce consistent Tableau-ready datasets that allow year-over-year and state-level comparisons."
   ]
  },
  {
   "cell_type": "markdown",
   "id": "f0ef9d59",
   "metadata": {},
   "source": [
    "## 1) Imports, paths, and helpers\n",
    "Utility functions for column normalization and FY parsing."
   ]
  },
  {
   "cell_type": "code",
   "execution_count": 1,
   "id": "f9e9d1a6",
   "metadata": {},
   "outputs": [],
   "source": [
    "\n",
    "from pathlib import Path\n",
    "import re\n",
    "import warnings\n",
    "import numpy as np\n",
    "import pandas as pd\n",
    "\n",
    "warnings.filterwarnings(\"ignore\", category=UserWarning)\n",
    "pd.set_option(\"display.max_rows\", 50)\n",
    "pd.set_option(\"display.width\", 120)\n",
    "\n",
    "RAW = Path(\"../data/raw\")\n",
    "PROC = Path(\"../data/processed\")\n",
    "PROC.mkdir(parents=True, exist_ok=True)\n",
    "\n",
    "# helper: normalize column names to lower_snake\n",
    "def norm_cols(cols):\n",
    "    def f(c):\n",
    "        c = c.strip()\n",
    "        c = c.replace(\"-\", \" \").replace(\"/\", \" \")\n",
    "        c = re.sub(r\"\\s+\", \"_\", c.lower())\n",
    "        return c\n",
    "    return [f(c) for c in cols]\n",
    "\n",
    "# helper: parse FY from filename (e.g., \"fy_2024_hospital_...csv\")\n",
    "def parse_fy_from_name(p: Path) -> int:\n",
    "    m = re.search(r\"fy[_\\- ]?(\\d{4})\", p.name, flags=re.I)\n",
    "    if not m:\n",
    "        raise ValueError(f\"Could not parse FY from filename: {p.name}\")\n",
    "    return int(m.group(1))\n",
    "\n",
    "# canonical column names we want\n",
    "CANON = [\n",
    "    \"facility_name\", \"facility_id\", \"state\", \"measure_name\",\n",
    "    \"number_of_discharges\", \"number_of_readmissions\",\n",
    "    \"predicted_readmission_rate\", \"expected_readmission_rate\",\n",
    "    \"excess_readmission_ratio\", \"start_date\", \"end_date\", \"footnote\"\n",
    "]\n",
    "\n",
    "# mapping of known variants → canonical\n",
    "VARIANT_MAP = {\n",
    "    \"facility id\": \"facility_id\",\n",
    "    \"facility_name\": \"facility_name\",\n",
    "    \"facilityid\": \"facility_id\",\n",
    "    \"state\": \"state\",\n",
    "    \"measure_name\": \"measure_name\",\n",
    "    \"measurename\": \"measure_name\",\n",
    "\n",
    "    \"number_of_discharges\": \"number_of_discharges\",\n",
    "    \"numberofdischarges\": \"number_of_discharges\",\n",
    "\n",
    "    \"number_of_readmissions\": \"number_of_readmissions\",\n",
    "    \"numberofreadmissions\": \"number_of_readmissions\",\n",
    "\n",
    "    \"predicted_readmission_rate\": \"predicted_readmission_rate\",\n",
    "    \"predictedreadmissionrate\": \"predicted_readmission_rate\",\n",
    "\n",
    "    \"expected_readmission_rate\": \"expected_readmission_rate\",\n",
    "    \"expectedreadmissionrate\": \"expected_readmission_rate\",\n",
    "\n",
    "    \"excess_readmission_ratio\": \"excess_readmission_ratio\",\n",
    "    \"excessreadmissionratio\": \"excess_readmission_ratio\",\n",
    "\n",
    "    \"start_date\": \"start_date\",\n",
    "    \"end_date\": \"end_date\",\n",
    "    \"footnote\": \"footnote\",\n",
    "}\n"
   ]
  },
  {
   "cell_type": "markdown",
   "id": "14691360",
   "metadata": {},
   "source": [
    "## 2) Load all raw CSVs and normalize schema\n",
    "Reads every CSV in `../data/raw/`, harmonizes headers, coerces types, and attaches FY."
   ]
  },
  {
   "cell_type": "code",
   "execution_count": 2,
   "id": "7cc193be",
   "metadata": {},
   "outputs": [
    {
     "data": {
      "text/plain": [
       "(5,\n",
       " ['2021:fy_2021_hospital_readmissions_reduction_program_hospital.csv',\n",
       "  '2022:fy_2022_hospital_readmissions_reduction_program_hospital.csv',\n",
       "  '2023:fy_2023_hospital_readmissions_reduction_program_hospital.csv',\n",
       "  '2024:fy_2024_hospital_readmissions_reduction_program_hospital.csv',\n",
       "  '2025:FY_2025_Hospital_Readmissions_Reduction_Program_Hospital.csv'])"
      ]
     },
     "execution_count": 2,
     "metadata": {},
     "output_type": "execute_result"
    }
   ],
   "source": [
    "\n",
    "raw_files = sorted([p for p in RAW.glob(\"*.csv\")])\n",
    "assert raw_files, f\"No CSV files found in {RAW.resolve()}\"\n",
    "\n",
    "norm_frames = []\n",
    "\n",
    "for p in raw_files:\n",
    "    fy = parse_fy_from_name(p)\n",
    "\n",
    "    # read as string to avoid parser surprises, then coerce\n",
    "    df = pd.read_csv(p, dtype=str)\n",
    "    df.columns = norm_cols(df.columns)\n",
    "\n",
    "    # rename to canonical\n",
    "    df = df.rename(columns={c: VARIANT_MAP.get(c, c) for c in df.columns})\n",
    "\n",
    "    # ensure canonical columns exist\n",
    "    for col in CANON:\n",
    "        if col not in df.columns:\n",
    "            df[col] = np.nan\n",
    "\n",
    "    # numeric conversions\n",
    "    for c in [\"number_of_discharges\",\"number_of_readmissions\",\n",
    "              \"predicted_readmission_rate\",\"expected_readmission_rate\",\n",
    "              \"excess_readmission_ratio\"]:\n",
    "        df[c] = pd.to_numeric(df[c], errors=\"coerce\")\n",
    "\n",
    "    # dates\n",
    "    for c in [\"start_date\",\"end_date\"]:\n",
    "        df[c] = pd.to_datetime(df[c], errors=\"coerce\")\n",
    "\n",
    "    # id/string\n",
    "    df[\"facility_id\"] = pd.to_numeric(df[\"facility_id\"], errors=\"coerce\").astype(\"Int64\")\n",
    "    for c in [\"facility_name\",\"state\",\"measure_name\",\"footnote\"]:\n",
    "        df[c] = df[c].astype(\"string\")\n",
    "\n",
    "    # set FY from filename\n",
    "    df[\"FY\"] = fy\n",
    "\n",
    "    # select/order\n",
    "    df = df.loc[:, CANON + [\"FY\"]]\n",
    "    norm_frames.append(df)\n",
    "\n",
    "len(norm_frames), [f\"{parse_fy_from_name(p)}:{p.name}\" for p in raw_files]\n"
   ]
  },
  {
   "cell_type": "markdown",
   "id": "cb7e992f",
   "metadata": {},
   "source": [
    "## 3) Quick schema & missingness spot-check\n",
    "Shows missingness of key fields per FY."
   ]
  },
  {
   "cell_type": "markdown",
   "id": "548153e4",
   "metadata": {},
   "source": [
    "⚖️ **Interpretation**: Suppressed data is expected when hospitals have low discharge counts, as CMS masks these values to protect patient privacy. Missingness here should align with suppression rules, and not indicate data ingestion errors."
   ]
  },
  {
   "cell_type": "code",
   "execution_count": 3,
   "id": "fad8c285",
   "metadata": {},
   "outputs": [
    {
     "name": "stdout",
     "output_type": "stream",
     "text": [
      "\n",
      "=== FY 2021 ===\n",
      "excess_readmission_ratio    0.278\n",
      "number_of_discharges        0.415\n",
      "number_of_readmissions      0.422\n",
      "dtype: float64\n",
      "\n",
      "=== FY 2022 ===\n",
      "excess_readmission_ratio    0.297\n",
      "number_of_discharges        0.460\n",
      "number_of_readmissions      0.468\n",
      "dtype: float64\n",
      "\n",
      "=== FY 2023 ===\n",
      "excess_readmission_ratio    0.320\n",
      "number_of_discharges        0.508\n",
      "number_of_readmissions      0.519\n",
      "dtype: float64\n",
      "\n",
      "=== FY 2024 ===\n",
      "excess_readmission_ratio    0.357\n",
      "number_of_discharges        0.569\n",
      "number_of_readmissions      0.580\n",
      "dtype: float64\n",
      "\n",
      "=== FY 2025 ===\n",
      "excess_readmission_ratio    0.356\n",
      "number_of_discharges        0.549\n",
      "number_of_readmissions      0.561\n",
      "dtype: float64\n"
     ]
    }
   ],
   "source": [
    "\n",
    "for df in norm_frames:\n",
    "    fy = df[\"FY\"].iloc[0]\n",
    "    print(f\"\\n=== FY {fy} ===\")\n",
    "    print(df[[\"excess_readmission_ratio\",\"number_of_discharges\",\"number_of_readmissions\"]].isna().mean().round(3))\n"
   ]
  },
  {
   "cell_type": "markdown",
   "id": "311aa808",
   "metadata": {},
   "source": [
    "## 4) Flag suppression and split kept vs suppressed\n",
    "Suppressed if any key metric or counts are missing; keep identifiers + FY + measure_name for suppressed.\n",
    "\n",
    "💡 CMS suppresses small cell counts (e.g., very few readmissions) to preserve anonymity. We flag these suppressed rows so they can be separated in analysis. Suppressed rows will be summarized separately to allow KPI reporting of suppression levels."
   ]
  },
  {
   "cell_type": "code",
   "execution_count": 4,
   "id": "dda20ee6",
   "metadata": {},
   "outputs": [
    {
     "data": {
      "text/plain": [
       "((46376, 12), (48142, 8))"
      ]
     },
     "execution_count": 4,
     "metadata": {},
     "output_type": "execute_result"
    }
   ],
   "source": [
    "\n",
    "kept_frames, supp_frames = [], []\n",
    "\n",
    "for df in norm_frames:\n",
    "    metric_null = df[[\"excess_readmission_ratio\",\n",
    "                      \"predicted_readmission_rate\",\n",
    "                      \"expected_readmission_rate\"]].isna().any(axis=1)\n",
    "    count_null  = df[[\"number_of_discharges\",\"number_of_readmissions\"]].isna().any(axis=1)\n",
    "    df[\"suppressed\"] = metric_null | count_null\n",
    "\n",
    "    cols_keep = [\n",
    "        \"FY\",\"facility_id\",\"facility_name\",\"state\",\"measure_name\",\n",
    "        \"excess_readmission_ratio\",\"predicted_readmission_rate\",\"expected_readmission_rate\",\n",
    "        \"number_of_discharges\",\"number_of_readmissions\",\"start_date\",\"end_date\"\n",
    "    ]\n",
    "    cols_supp = [\n",
    "        \"FY\",\"facility_id\",\"facility_name\",\"state\",\"measure_name\",\"start_date\",\"end_date\",\"suppressed\"\n",
    "    ]\n",
    "\n",
    "    kept_frames.append(df.loc[~df[\"suppressed\"], cols_keep].copy())\n",
    "    supp_frames.append(df.loc[df[\"suppressed\"],  cols_supp].copy())\n",
    "\n",
    "kept_all = pd.concat(kept_frames, ignore_index=True)\n",
    "supp_all = pd.concat(supp_frames, ignore_index=True)\n",
    "\n",
    "# safety checks\n",
    "assert \"measure_name\" in kept_all.columns and \"measure_name\" in supp_all.columns\n",
    "kept_all.shape, supp_all.shape\n"
   ]
  },
  {
   "cell_type": "markdown",
   "id": "5484e220",
   "metadata": {},
   "source": [
    "## 5) Final cleanups\n",
    "Coerce types and trim strings to ensure consistent grouping."
   ]
  },
  {
   "cell_type": "code",
   "execution_count": 5,
   "id": "c084213e",
   "metadata": {},
   "outputs": [],
   "source": [
    "\n",
    "for c in [\"number_of_discharges\",\"number_of_readmissions\"]:\n",
    "    kept_all[c] = pd.to_numeric(kept_all[c], errors=\"coerce\")\n",
    "\n",
    "kept_all[\"FY\"] = kept_all[\"FY\"].astype(int)\n",
    "supp_all[\"FY\"] = supp_all[\"FY\"].astype(int)\n",
    "\n",
    "for c in [\"facility_name\",\"state\",\"measure_name\"]:\n",
    "    kept_all[c] = kept_all[c].str.strip()\n",
    "    supp_all[c] = supp_all[c].str.strip()\n"
   ]
  },
  {
   "cell_type": "markdown",
   "id": "9ab61721",
   "metadata": {},
   "source": [
    "\n",
    "## 6) Build Tableau-ready summaries\n",
    "\n",
    "- **state_summary.csv** — FY × state × condition, with avg ERR, hospital counts, and YoY delta.  \n",
    "- **national_summary.csv** — FY × condition hospital-weighted national average.  \n",
    "- **national_summary_stateavg.csv** — FY × condition mean of state averages.  \n",
    "- **hospital_summary.csv** — Row-level hospital records (ERR + counts).  \n",
    "- **suppression_by_fy_measure.csv** — FY × condition suppression % (for KPI).  \n",
    "- **suppression_summary.csv** — FY overall suppression overview.\n"
   ]
  },
  {
   "cell_type": "code",
   "execution_count": 6,
   "id": "0f873cf9",
   "metadata": {},
   "outputs": [
    {
     "data": {
      "text/plain": [
       "((1496, 7), (30, 4), (30, 4), (46376, 9), (30, 6), (5, 4))"
      ]
     },
     "execution_count": 6,
     "metadata": {},
     "output_type": "execute_result"
    }
   ],
   "source": [
    "\n",
    "# State summary\n",
    "state_summary = (\n",
    "    kept_all.groupby([\"FY\",\"state\",\"measure_name\"], dropna=False)\n",
    "            .agg(\n",
    "                avg_err=(\"excess_readmission_ratio\",\"mean\"),\n",
    "                hospitals_reporting=(\"facility_id\",\"nunique\"),\n",
    "                total_rows=(\"facility_id\",\"size\")\n",
    "            )\n",
    "            .reset_index()\n",
    "            .sort_values([\"FY\",\"measure_name\",\"state\"])\n",
    ")\n",
    "state_summary[\"delta_prev\"] = (\n",
    "    state_summary.groupby([\"state\",\"measure_name\"], dropna=False)[\"avg_err\"].diff()\n",
    ")\n",
    "\n",
    "# National (hospital-weighted)\n",
    "national_summary = (\n",
    "    kept_all.groupby([\"FY\",\"measure_name\"], dropna=False)\n",
    "            .agg(\n",
    "                national_avg_err=(\"excess_readmission_ratio\",\"mean\"),\n",
    "                hospitals_reporting=(\"facility_id\",\"nunique\")\n",
    "            )\n",
    "            .reset_index()\n",
    "            .sort_values([\"FY\",\"measure_name\"])\n",
    ")\n",
    "\n",
    "# National (mean of state averages)\n",
    "national_summary_state = (\n",
    "    state_summary.groupby([\"FY\",\"measure_name\"], dropna=False)\n",
    "                 .agg(\n",
    "                     national_avg_err_state=(\"avg_err\",\"mean\"),\n",
    "                     hospitals_reporting_sum=(\"hospitals_reporting\",\"sum\")\n",
    "                 )\n",
    "                 .reset_index()\n",
    "                 .sort_values([\"FY\",\"measure_name\"])\n",
    ")\n",
    "\n",
    "# Hospital summary\n",
    "hospital_summary = kept_all.loc[:, [\n",
    "    \"FY\",\"facility_id\",\"facility_name\",\"state\",\"measure_name\",\n",
    "    \"excess_readmission_ratio\",\"number_of_discharges\",\"number_of_readmissions\"\n",
    "]].copy()\n",
    "hospital_summary = hospital_summary.rename(columns={\"excess_readmission_ratio\": \"err\"})\n",
    "hospital_summary[\"rank_by_err\"] = (\n",
    "    hospital_summary.groupby([\"FY\",\"measure_name\"], dropna=False)[\"err\"]\n",
    "                    .rank(method=\"dense\", ascending=True)\n",
    ")\n",
    "\n",
    "# Suppression by FY × measure\n",
    "supp_by = (\n",
    "    supp_all.groupby([\"FY\",\"measure_name\"], dropna=False)\n",
    "            .size().reset_index(name=\"suppressed_rows\")\n",
    ")\n",
    "kept_by = (\n",
    "    kept_all.groupby([\"FY\",\"measure_name\"], dropna=False)\n",
    "            .size().reset_index(name=\"kept_rows\")\n",
    ")\n",
    "suppression_by_fy_measure = (\n",
    "    supp_by.merge(kept_by, on=[\"FY\",\"measure_name\"], how=\"outer\")\n",
    "           .fillna(0)\n",
    "           .astype({\"suppressed_rows\":\"int\",\"kept_rows\":\"int\"})\n",
    "           .sort_values([\"FY\",\"measure_name\"])\n",
    ")\n",
    "suppression_by_fy_measure[\"total_rows\"] = (\n",
    "    suppression_by_fy_measure[\"suppressed_rows\"] + suppression_by_fy_measure[\"kept_rows\"]\n",
    ")\n",
    "suppression_by_fy_measure[\"pct_suppressed\"] = np.where(\n",
    "    suppression_by_fy_measure[\"total_rows\"] > 0,\n",
    "    suppression_by_fy_measure[\"suppressed_rows\"] / suppression_by_fy_measure[\"total_rows\"],\n",
    "    np.nan\n",
    ")\n",
    "\n",
    "# FY-level suppression overview\n",
    "suppression_summary = (\n",
    "    suppression_by_fy_measure.groupby(\"FY\", dropna=False)\n",
    "                             .agg(\n",
    "                                 suppressed_rows=(\"suppressed_rows\",\"sum\"),\n",
    "                                 total_rows=(\"total_rows\",\"sum\")\n",
    "                             )\n",
    "                             .reset_index()\n",
    ")\n",
    "suppression_summary[\"pct_suppressed\"] = np.where(\n",
    "    suppression_summary[\"total_rows\"] > 0,\n",
    "    suppression_summary[\"suppressed_rows\"] / suppression_summary[\"total_rows\"],\n",
    "    np.nan\n",
    ")\n",
    "\n",
    "state_summary.shape, national_summary.shape, national_summary_state.shape, hospital_summary.shape, suppression_by_fy_measure.shape, suppression_summary.shape\n"
   ]
  },
  {
   "cell_type": "markdown",
   "id": "c0867715",
   "metadata": {},
   "source": [
    "## 7) Save CSVs\n",
    "Writes all outputs to `../data/processed/`."
   ]
  },
  {
   "cell_type": "code",
   "execution_count": 7,
   "id": "94871303",
   "metadata": {},
   "outputs": [
    {
     "name": "stdout",
     "output_type": "stream",
     "text": [
      "Saved:\n",
      "  - C:\\Users\\derek\\projects\\HRRP-Analysis\\data\\processed\\state_summary.csv\n",
      "  - C:\\Users\\derek\\projects\\HRRP-Analysis\\data\\processed\\national_summary.csv\n",
      "  - C:\\Users\\derek\\projects\\HRRP-Analysis\\data\\processed\\national_summary_stateavg.csv\n",
      "  - C:\\Users\\derek\\projects\\HRRP-Analysis\\data\\processed\\hospital_summary.csv\n",
      "  - C:\\Users\\derek\\projects\\HRRP-Analysis\\data\\processed\\suppression_by_fy_measure.csv\n",
      "  - C:\\Users\\derek\\projects\\HRRP-Analysis\\data\\processed\\suppression_summary.csv\n"
     ]
    }
   ],
   "source": [
    "\n",
    "state_summary.to_csv(PROC / \"state_summary.csv\", index=False)\n",
    "national_summary.to_csv(PROC / \"national_summary.csv\", index=False)\n",
    "national_summary_state.to_csv(PROC / \"national_summary_stateavg.csv\", index=False)\n",
    "hospital_summary.to_csv(PROC / \"hospital_summary.csv\", index=False)\n",
    "suppression_by_fy_measure.to_csv(PROC / \"suppression_by_fy_measure.csv\", index=False)\n",
    "suppression_summary.to_csv(PROC / \"suppression_summary.csv\", index=False)\n",
    "\n",
    "print(\"Saved:\")\n",
    "for f in [\n",
    "    \"state_summary.csv\",\n",
    "    \"national_summary.csv\",\n",
    "    \"national_summary_stateavg.csv\",\n",
    "    \"hospital_summary.csv\",\n",
    "    \"suppression_by_fy_measure.csv\",\n",
    "    \"suppression_summary.csv\",\n",
    "]:\n",
    "    print(\"  -\", (PROC / f).resolve())\n"
   ]
  },
  {
   "cell_type": "markdown",
   "id": "3a3d4a62",
   "metadata": {},
   "source": [
    "## 8) Sanity checks (optional)\n",
    "Validates keys and prints simple ranges to spot obvious issues."
   ]
  },
  {
   "cell_type": "code",
   "execution_count": 8,
   "id": "6c653734",
   "metadata": {},
   "outputs": [
    {
     "name": "stdout",
     "output_type": "stream",
     "text": [
      "\n",
      "ERR ranges by condition (national, hospital-weighted):\n",
      "                          min    max\n",
      "measure_name                        \n",
      "READM-30-AMI-HRRP       1.006  1.012\n",
      "READM-30-CABG-HRRP      1.023  1.044\n",
      "READM-30-COPD-HRRP      1.004  1.014\n",
      "READM-30-HF-HRRP        1.004  1.004\n",
      "READM-30-HIP-KNEE-HRRP  1.023  1.040\n",
      "READM-30-PN-HRRP        1.004  1.007\n",
      "\n",
      "FYs present in outputs:\n",
      "state_summary FYs             : [2021, 2022, 2023, 2024, 2025]\n",
      "national_summary FYs          : [2021, 2022, 2023, 2024, 2025]\n",
      "suppression_by_fy_measure FYs : [2021, 2022, 2023, 2024, 2025]\n"
     ]
    }
   ],
   "source": [
    "\n",
    "# Keys present\n",
    "assert all(c in suppression_by_fy_measure.columns for c in [\"FY\",\"measure_name\",\"pct_suppressed\"])\n",
    "assert all(c in national_summary.columns for c in [\"FY\",\"measure_name\",\"national_avg_err\"])\n",
    "\n",
    "# Ranges\n",
    "print(\"\\nERR ranges by condition (national, hospital-weighted):\")\n",
    "print(\n",
    "    national_summary\n",
    "      .groupby(\"measure_name\")[\"national_avg_err\"]\n",
    "      .agg([\"min\",\"max\"])\n",
    "      .round(3)\n",
    ")\n",
    "\n",
    "# FY coverage\n",
    "print(\"\\nFYs present in outputs:\")\n",
    "print(\"state_summary FYs             :\", sorted(state_summary.FY.unique()))\n",
    "print(\"national_summary FYs          :\", sorted(national_summary.FY.unique()))\n",
    "print(\"suppression_by_fy_measure FYs :\", sorted(suppression_by_fy_measure.FY.unique()))\n"
   ]
  }
 ],
 "metadata": {
  "kernelspec": {
   "display_name": "base",
   "language": "python",
   "name": "python3"
  },
  "language_info": {
   "codemirror_mode": {
    "name": "ipython",
    "version": 3
   },
   "file_extension": ".py",
   "mimetype": "text/x-python",
   "name": "python",
   "nbconvert_exporter": "python",
   "pygments_lexer": "ipython3",
   "version": "3.11.4"
  }
 },
 "nbformat": 4,
 "nbformat_minor": 5
}
